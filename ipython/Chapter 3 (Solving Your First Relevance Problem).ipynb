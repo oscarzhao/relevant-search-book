{
 "cells": [
  {
   "cell_type": "markdown",
   "metadata": {},
   "source": [
    "# Boilerplate Setup"
   ]
  },
  {
   "cell_type": "code",
   "execution_count": 1,
   "metadata": {
    "collapsed": false
   },
   "outputs": [],
   "source": [
    "import requests\n",
    "import json\n",
    "\n",
    "\n",
    "# Optional, enable client-side caching for TMDB\n",
    "# Requires: https://httpcache.readthedocs.org/en/latest/\n",
    "#from httpcache import CachingHTTPAdapter\n",
    "#tmdb_api.mount('https://', CachingHTTPAdapter())\n",
    "#tmdb_api.mount('http://', CachingHTTPAdapter())\n",
    "\n",
    "# Some utilities for flattening the explain into something a bit more\n",
    "# readable. Pass Explain JSON, get something readable (ironically this is what Solr's default output is :-p)\n",
    "def flatten(l):\n",
    "    [item for sublist in l for item in sublist]\n",
    "\n",
    "def simplerExplain(explainJson, depth=0):\n",
    "    result = \" \" * (depth * 2) + \"%s, %s\\n\" % (explainJson['value'], explainJson['description'])\n",
    "    #print json.dumps(explainJson, indent=True)\n",
    "    if 'details' in explainJson:\n",
    "        for detail in explainJson['details']:\n",
    "            result += simplerExplain(detail, depth=depth+1)\n",
    "    return result"
   ]
  },
  {
   "cell_type": "markdown",
   "metadata": {},
   "source": [
    "# 3.2.2 Indexing TMDB Movies"
   ]
  },
  {
   "cell_type": "code",
   "execution_count": 2,
   "metadata": {
    "collapsed": false
   },
   "outputs": [],
   "source": [
    "def extract():\n",
    "    f = open('tmdb.json')\n",
    "    if f:\n",
    "         return json.loads(f.read());        \n",
    "    return {}"
   ]
  },
  {
   "cell_type": "code",
   "execution_count": 3,
   "metadata": {
    "collapsed": false
   },
   "outputs": [],
   "source": [
    "def reindex(analysisSettings={}, mappingSettings={}, movieDict={}):\n",
    "    settings = { #A\n",
    "        \"settings\": {\n",
    "            \"number_of_shards\": 1, #B\n",
    "            \"index\": {\n",
    "                \"analysis\" : analysisSettings, #C\n",
    "            }}}\n",
    "\n",
    "    if mappingSettings:\n",
    "        settings['mappings'] = mappingSettings #C\n",
    "\n",
    "    resp = requests.delete(\"http://localhost:9200/tmdb\") #D\n",
    "    resp = requests.put(\"http://localhost:9200/tmdb\", \n",
    "                        data=json.dumps(settings))\n",
    "\n",
    "    bulkMovies = \"\"\n",
    "    print(\"building...\")\n",
    "    for id, movie in movieDict.items(): \n",
    "        addCmd = {\"index\": {\"_index\": \"tmdb\", #E\n",
    "                            \"_type\": \"movie\",\n",
    "                            \"_id\": movie[\"id\"]}}\n",
    "        bulkMovies += json.dumps(addCmd) + \"\\n\" + json.dumps(movie) + \"\\n\"\n",
    "\n",
    "    print(\"indexing...\")\n",
    "    # https://www.elastic.co/guide/en/elasticsearch/reference/current/docs-bulk.html\n",
    "    resp = requests.post(\"http://localhost:9200/_bulk\", data=bulkMovies, headers={\"Content-Type\":\"application/x-ndjson\"})\n",
    "    print(\"Create index complete, resp=%s\" % resp.text[:100])\n"
   ]
  },
  {
   "cell_type": "code",
   "execution_count": 4,
   "metadata": {
    "collapsed": false
   },
   "outputs": [
    {
     "name": "stdout",
     "output_type": "stream",
     "text": [
      "building...\n",
      "indexing...\n",
      "Create index complete, resp={\"took\":5513,\"errors\":false,\"items\":[{\"index\":{\"_index\":\"tmdb\",\"_type\":\"movie\",\"_id\":\"93837\",\"_versi\n"
     ]
    }
   ],
   "source": [
    "movieDict = extract()\n",
    "reindex(movieDict=movieDict)\n"
   ]
  },
  {
   "cell_type": "markdown",
   "metadata": {},
   "source": [
    "# 3.2.3 Basic Searching"
   ]
  },
  {
   "cell_type": "code",
   "execution_count": 5,
   "metadata": {
    "collapsed": false
   },
   "outputs": [],
   "source": [
    "def search(query):\n",
    "    url = 'http://localhost:9200/tmdb/movie/_search'\n",
    "    httpResp = requests.get(url, json=query) #A\n",
    "    print(\"Http resp=%s\" % httpResp.text[:100])\n",
    "    searchHits = json.loads(httpResp.text)['hits']\n",
    "    print (\"Num\\tRelevance Score\\t\\tMovie Title\\t\\tOverview\") #B\n",
    "    for idx, hit in enumerate(searchHits['hits']):\n",
    "            print(\"%s\\t%s\\t\\t%s\" % (idx + 1, hit['_score'], hit['_source']['title']))\n"
   ]
  },
  {
   "cell_type": "code",
   "execution_count": 6,
   "metadata": {
    "collapsed": false
   },
   "outputs": [
    {
     "name": "stdout",
     "output_type": "stream",
     "text": [
      "Http resp={\"took\":247,\"timed_out\":false,\"_shards\":{\"total\":5,\"successful\":5,\"skipped\":0,\"failed\":0},\"hits\":{\"t\n",
      "Num\tRelevance Score\t\tMovie Title\t\tOverview\n",
      "1\t71.4475\t\tAliens\n",
      "2\t59.804768\t\tCowboys & Aliens\n",
      "3\t57.58971\t\tThe Basketball Diaries\n",
      "4\t57.58971\t\tMonsters vs Aliens\n",
      "5\t49.727566\t\tFriends with Kids\n",
      "6\t49.44959\t\tAliens in the Attic\n",
      "7\t45.1047\t\tAliens vs Predator: Requiem\n",
      "8\t43.483475\t\tFrom Russia With Love\n",
      "9\t43.22128\t\tHobo with a Shotgun\n",
      "10\t42.45948\t\tDances with Wolves\n",
      "11\t39.850166\t\tFriends with Benefits\n",
      "12\t39.850166\t\tFire with Fire\n",
      "13\t39.77869\t\tInterview with the Vampire\n",
      "14\t39.77869\t\tFrom Paris with Love\n",
      "15\t39.77869\t\tTrouble with the Curve\n",
      "16\t39.77869\t\tTo Rome with Love\n",
      "17\t38.378033\t\tFun with Dick and Jane\n",
      "18\t37.119114\t\tGone with the Wind\n",
      "19\t37.119114\t\tJust Go With It\n",
      "20\t37.119114\t\tSleeping with the Enemy\n",
      "21\t34.888588\t\tMy Week with Marilyn\n",
      "22\t34.7553\t\tYou Don't Mess With the Zohan\n",
      "23\t34.510853\t\tThe Girl Who Played with Fire\n",
      "24\t32.972034\t\tGirl with a Pearl Earring\n",
      "25\t31.93021\t\tThe Girl with the Dragon Tattoo\n",
      "26\t31.93021\t\tThe Girl with the Dragon Tattoo\n",
      "27\t31.025702\t\tDie Hard: With a Vengeance\n",
      "28\t29.658482\t\tTwin Peaks: Fire Walk with Me\n",
      "29\t27.93295\t\tThe Life Aquatic With Steve Zissou\n",
      "30\t27.93295\t\tThe Man with the Golden Gun\n",
      "31\t27.93295\t\tCloudy with a Chance of Meatballs\n",
      "32\t27.93295\t\tThe Man with the Iron Fists\n",
      "33\t25.400896\t\tCloudy with a Chance of Meatballs 2\n",
      "34\t25.400896\t\tThe Pirates! In an Adventure with Scientists!\n",
      "35\t9.522362\t\tMeet Dave\n",
      "36\t8.215713\t\tSpace Jam\n",
      "37\t7.863373\t\tGrown Ups\n",
      "38\t7.842091\t\tSemi-Pro\n",
      "39\t7.0154967\t\tSpeed Racer\n",
      "40\t6.710354\t\tAlien: Resurrection\n",
      "41\t6.5932465\t\tThe Watch\n",
      "42\t6.3094597\t\tThe Flintstones\n",
      "43\t6.308363\t\tCoach Carter\n",
      "44\t6.02891\t\tBedazzled\n",
      "45\t5.996884\t\tDistrict 9\n",
      "46\t5.9817123\t\tTeen Wolf\n",
      "47\t5.85917\t\tWhite Men Can't Jump\n",
      "48\t5.516501\t\tGalaxy Quest\n",
      "49\t5.515525\t\tBatteries Not Included\n",
      "50\t5.5083547\t\tThey Live\n",
      "51\t5.413434\t\tPitch Black\n",
      "52\t4.865118\t\tDude, Where’s My Car?\n",
      "53\t4.7903066\t\tMen in Black 3\n",
      "54\t4.7316074\t\tCocoon\n",
      "55\t4.698853\t\tHigh School Musical\n",
      "56\t4.592104\t\tBattlefield Earth\n",
      "57\t4.5507727\t\tAVP: Alien vs. Predator\n",
      "58\t1.7696981\t\tDark City\n",
      "59\t1.7112502\t\tBride of Chucky\n",
      "60\t1.7092412\t\tThe Switch\n",
      "61\t1.7003025\t\tWhite Noise\n",
      "62\t1.6846008\t\tOdd Thomas\n",
      "63\t1.6843095\t\tFrida\n",
      "64\t1.6801965\t\tGuess Who\n",
      "65\t1.6523412\t\tThe Man in the Iron Mask\n",
      "66\t1.6476002\t\tStrangers on a Train\n",
      "67\t1.6337293\t\t[REC]²\n",
      "68\t1.6253943\t\tGhosts of Girlfriends Past\n",
      "69\t1.6175184\t\tMy Big Fat Greek Wedding\n",
      "70\t1.6175184\t\t27 Dresses\n",
      "71\t1.6107291\t\tSex Drive\n",
      "72\t1.6013129\t\tLethal Weapon\n",
      "73\t1.5903915\t\tYoung Adult\n",
      "74\t1.5865825\t\tRush Hour 3\n",
      "75\t1.5764271\t\tGarden State\n",
      "76\t1.5697511\t\tStuart Little\n",
      "77\t1.5672092\t\tJustice League: Throne of Atlantis\n",
      "78\t1.5617217\t\tMatilda\n",
      "79\t1.5406786\t\tOutlander\n",
      "80\t1.5376279\t\tArachnophobia\n",
      "81\t1.5335215\t\tThe Man Who Wasn't There\n",
      "82\t1.5335215\t\tRobin Hood\n",
      "83\t1.5323472\t\tWild Card\n",
      "84\t1.5317122\t\tA Separation\n",
      "85\t1.5317122\t\tHalo 4: Forward Unto Dawn\n",
      "86\t1.5317122\t\tI Am Number Four\n",
      "87\t1.5233262\t\tSaving Private Ryan\n",
      "88\t1.5062047\t\tMy Girl\n",
      "89\t1.5012716\t\tArmored\n",
      "90\t1.4897679\t\tToy Story 3\n",
      "91\t1.4897679\t\tMulan\n",
      "92\t1.4897679\t\tParker\n",
      "93\t1.482208\t\tSharknado\n",
      "94\t1.4796798\t\tCarrie\n",
      "95\t1.4735372\t\tCity Lights\n",
      "96\t1.4735372\t\tThe Little Mermaid\n",
      "97\t1.4735372\t\tThe Tale of Despereaux\n",
      "98\t1.4580928\t\tFantasia 2000\n",
      "99\t1.4576564\t\tBridget Jones: The Edge of Reason\n",
      "100\t1.4564334\t\tNim's Island\n"
     ]
    }
   ],
   "source": [
    "usersSearch = 'basketball with cartoon aliens'\n",
    "query = {\n",
    "    'query': {\n",
    "        'multi_match': { \n",
    "            'query': usersSearch, #A\n",
    "            'fields': ['title^10', 'overview'], #B\n",
    "        },\n",
    "    },\n",
    "    'size': '100'\n",
    "}\n",
    "search(query)\n"
   ]
  },
  {
   "cell_type": "markdown",
   "metadata": {},
   "source": [
    "# 2.3.1 Query Validation API"
   ]
  },
  {
   "cell_type": "code",
   "execution_count": 7,
   "metadata": {
    "collapsed": false
   },
   "outputs": [
    {
     "name": "stdout",
     "output_type": "stream",
     "text": [
      "{'_shards': {'total': 1, 'successful': 1, 'failed': 0}, 'valid': True, 'explanations': [{'index': 'tmdb', 'valid': True, 'explanation': '+((title:basketball title:with title:cartoon title:aliens)^10.0 | (overview:basketball overview:with overview:cartoon overview:aliens)) #*:*'}]}\n"
     ]
    }
   ],
   "source": [
    "query = {\n",
    "   'query': {\n",
    "        'multi_match': { \n",
    "            'query': usersSearch,  #User's query\n",
    "            'fields': ['title^10', 'overview']\n",
    "        }\n",
    "    }\n",
    "}\n",
    "httpResp = requests.get('http://localhost:9200' + \n",
    "\t\t\t    '/tmdb/movie/_validate/query?explain',\n",
    "\t\t\t     json=query)\n",
    "print(json.loads(httpResp.text))"
   ]
  },
  {
   "cell_type": "markdown",
   "metadata": {},
   "source": [
    "# 2.3.3 Debugging Analysis"
   ]
  },
  {
   "cell_type": "code",
   "execution_count": 14,
   "metadata": {
    "collapsed": false
   },
   "outputs": [
    {
     "name": "stdout",
     "output_type": "stream",
     "text": [
      "---\n",
      "tokens:\n",
      "- token: \"fire\"\n",
      "  start_offset: 0\n",
      "  end_offset: 4\n",
      "  type: \"<ALPHANUM>\"\n",
      "  position: 0\n",
      "- token: \"with\"\n",
      "  start_offset: 5\n",
      "  end_offset: 9\n",
      "  type: \"<ALPHANUM>\"\n",
      "  position: 1\n",
      "- token: \"fire\"\n",
      "  start_offset: 10\n",
      "  end_offset: 14\n",
      "  type: \"<ALPHANUM>\"\n",
      "  position: 2\n",
      "\n"
     ]
    }
   ],
   "source": [
    "# Inner Layer of the Onion -- Why did the search engine consider these movies matches? Two sides to this\n",
    "# (1) What tokens are placed in the search engine?\n",
    "# (2) What did the search engine attempt to match exactly?\n",
    "\n",
    "# Explain of what's happening when we construct these terms\n",
    "\n",
    "#resp = requests.get(elasticSearchUrl + \"/tmdb/_mapping/movie/field/title?format=yaml'\n",
    "resp = requests.get('http://localhost:9200/tmdb/_analyze?format=yaml', \n",
    "                    json={\"field\":\"title\", \"text\":\"Fire with Fire\"})\n",
    "print(resp.text)"
   ]
  },
  {
   "cell_type": "markdown",
   "metadata": {},
   "source": [
    "# 2.3.5 -- Solving The Matching Problem"
   ]
  },
  {
   "cell_type": "code",
   "execution_count": 21,
   "metadata": {
    "collapsed": false
   },
   "outputs": [
    {
     "name": "stdout",
     "output_type": "stream",
     "text": [
      "building...\n",
      "indexing...\n",
      "Create index complete, resp={\"took\":7288,\"errors\":false,\"items\":[{\"index\":{\"_index\":\"tmdb\",\"_type\":\"movie\",\"_id\":\"93837\",\"_versi\n"
     ]
    }
   ],
   "source": [
    "mappingSettings = {\n",
    "       'movie': {\n",
    "            'properties': {\n",
    "               'title': { #A\n",
    "                   'type': 'string',\n",
    "                   'analyzer': 'english'\n",
    "               },\n",
    "                'overview': {\n",
    "                   'type': 'string',\n",
    "                   'analyzer': 'english'\n",
    "               }\n",
    "            }\n",
    "       }\n",
    "}\n",
    "reindex(mappingSettings=mappingSettings, movieDict=movieDict) \n"
   ]
  },
  {
   "cell_type": "code",
   "execution_count": 26,
   "metadata": {
    "collapsed": false
   },
   "outputs": [
    {
     "name": "stdout",
     "output_type": "stream",
     "text": [
      "---\n",
      "tokens:\n",
      "- token: \"fire\"\n",
      "  start_offset: 0\n",
      "  end_offset: 4\n",
      "  type: \"<ALPHANUM>\"\n",
      "  position: 0\n",
      "- token: \"with\"\n",
      "  start_offset: 5\n",
      "  end_offset: 9\n",
      "  type: \"<ALPHANUM>\"\n",
      "  position: 1\n",
      "- token: \"fire\"\n",
      "  start_offset: 10\n",
      "  end_offset: 14\n",
      "  type: \"<ALPHANUM>\"\n",
      "  position: 2\n",
      "\n"
     ]
    }
   ],
   "source": [
    "resp = requests.get('http://localhost:9200/tmdb/_analyze?format=yaml', \n",
    "                    json={\"field\":\"title\", \"text\":\"Fire with Fire\"})\n",
    "print(resp.text)"
   ]
  },
  {
   "cell_type": "markdown",
   "metadata": {},
   "source": [
    "## Repeat the search"
   ]
  },
  {
   "cell_type": "code",
   "execution_count": 18,
   "metadata": {
    "collapsed": false
   },
   "outputs": [
    {
     "name": "stdout",
     "output_type": "stream",
     "text": [
      "Http resp={\"took\":235,\"timed_out\":false,\"_shards\":{\"total\":5,\"successful\":5,\"skipped\":0,\"failed\":0},\"hits\":{\"t\n",
      "Num\tRelevance Score\t\tMovie Title\t\tOverview\n",
      "1\t71.4475\t\tAliens\n",
      "2\t59.804768\t\tCowboys & Aliens\n",
      "3\t57.58971\t\tThe Basketball Diaries\n",
      "4\t57.58971\t\tMonsters vs Aliens\n",
      "5\t49.727566\t\tFriends with Kids\n",
      "6\t49.44959\t\tAliens in the Attic\n",
      "7\t45.1047\t\tAliens vs Predator: Requiem\n",
      "8\t43.483475\t\tFrom Russia With Love\n",
      "9\t43.22128\t\tHobo with a Shotgun\n",
      "10\t42.45948\t\tDances with Wolves\n",
      "11\t39.850166\t\tFriends with Benefits\n",
      "12\t39.850166\t\tFire with Fire\n",
      "13\t39.77869\t\tInterview with the Vampire\n",
      "14\t39.77869\t\tFrom Paris with Love\n",
      "15\t39.77869\t\tTrouble with the Curve\n",
      "16\t39.77869\t\tTo Rome with Love\n",
      "17\t38.378033\t\tFun with Dick and Jane\n",
      "18\t37.119114\t\tGone with the Wind\n",
      "19\t37.119114\t\tJust Go With It\n",
      "20\t37.119114\t\tSleeping with the Enemy\n",
      "21\t34.888588\t\tMy Week with Marilyn\n",
      "22\t34.7553\t\tYou Don't Mess With the Zohan\n",
      "23\t34.510853\t\tThe Girl Who Played with Fire\n",
      "24\t32.972034\t\tGirl with a Pearl Earring\n",
      "25\t31.93021\t\tThe Girl with the Dragon Tattoo\n",
      "26\t31.93021\t\tThe Girl with the Dragon Tattoo\n",
      "27\t31.025702\t\tDie Hard: With a Vengeance\n",
      "28\t29.658482\t\tTwin Peaks: Fire Walk with Me\n",
      "29\t27.93295\t\tThe Life Aquatic With Steve Zissou\n",
      "30\t27.93295\t\tThe Man with the Golden Gun\n",
      "31\t27.93295\t\tCloudy with a Chance of Meatballs\n",
      "32\t27.93295\t\tThe Man with the Iron Fists\n",
      "33\t25.400896\t\tCloudy with a Chance of Meatballs 2\n",
      "34\t25.400896\t\tThe Pirates! In an Adventure with Scientists!\n",
      "35\t9.522362\t\tMeet Dave\n",
      "36\t8.215713\t\tSpace Jam\n",
      "37\t7.863373\t\tGrown Ups\n",
      "38\t7.842091\t\tSemi-Pro\n",
      "39\t7.0154967\t\tSpeed Racer\n",
      "40\t6.710354\t\tAlien: Resurrection\n",
      "41\t6.5932465\t\tThe Watch\n",
      "42\t6.3094597\t\tThe Flintstones\n",
      "43\t6.308363\t\tCoach Carter\n",
      "44\t6.02891\t\tBedazzled\n",
      "45\t5.996884\t\tDistrict 9\n",
      "46\t5.9817123\t\tTeen Wolf\n",
      "47\t5.85917\t\tWhite Men Can't Jump\n",
      "48\t5.516501\t\tGalaxy Quest\n",
      "49\t5.515525\t\tBatteries Not Included\n",
      "50\t5.5083547\t\tThey Live\n",
      "51\t5.413434\t\tPitch Black\n",
      "52\t4.865118\t\tDude, Where’s My Car?\n",
      "53\t4.7903066\t\tMen in Black 3\n",
      "54\t4.7316074\t\tCocoon\n",
      "55\t4.698853\t\tHigh School Musical\n",
      "56\t4.592104\t\tBattlefield Earth\n",
      "57\t4.5507727\t\tAVP: Alien vs. Predator\n",
      "58\t1.7696981\t\tDark City\n",
      "59\t1.7112502\t\tBride of Chucky\n",
      "60\t1.7092412\t\tThe Switch\n",
      "61\t1.7003025\t\tWhite Noise\n",
      "62\t1.6846008\t\tOdd Thomas\n",
      "63\t1.6843095\t\tFrida\n",
      "64\t1.6801965\t\tGuess Who\n",
      "65\t1.6523412\t\tThe Man in the Iron Mask\n",
      "66\t1.6476002\t\tStrangers on a Train\n",
      "67\t1.6337293\t\t[REC]²\n",
      "68\t1.6253943\t\tGhosts of Girlfriends Past\n",
      "69\t1.6175184\t\tMy Big Fat Greek Wedding\n",
      "70\t1.6175184\t\t27 Dresses\n",
      "71\t1.6107291\t\tSex Drive\n",
      "72\t1.6013129\t\tLethal Weapon\n",
      "73\t1.5903915\t\tYoung Adult\n",
      "74\t1.5865825\t\tRush Hour 3\n",
      "75\t1.5764271\t\tGarden State\n",
      "76\t1.5697511\t\tStuart Little\n",
      "77\t1.5672092\t\tJustice League: Throne of Atlantis\n",
      "78\t1.5617217\t\tMatilda\n",
      "79\t1.5406786\t\tOutlander\n",
      "80\t1.5376279\t\tArachnophobia\n",
      "81\t1.5335215\t\tThe Man Who Wasn't There\n",
      "82\t1.5335215\t\tRobin Hood\n",
      "83\t1.5323472\t\tWild Card\n",
      "84\t1.5317122\t\tA Separation\n",
      "85\t1.5317122\t\tHalo 4: Forward Unto Dawn\n",
      "86\t1.5317122\t\tI Am Number Four\n",
      "87\t1.5233262\t\tSaving Private Ryan\n",
      "88\t1.5062047\t\tMy Girl\n",
      "89\t1.5012716\t\tArmored\n",
      "90\t1.4897679\t\tToy Story 3\n",
      "91\t1.4897679\t\tMulan\n",
      "92\t1.4897679\t\tParker\n",
      "93\t1.482208\t\tSharknado\n",
      "94\t1.4796798\t\tCarrie\n",
      "95\t1.4735372\t\tCity Lights\n",
      "96\t1.4735372\t\tThe Little Mermaid\n",
      "97\t1.4735372\t\tThe Tale of Despereaux\n",
      "98\t1.4580928\t\tFantasia 2000\n",
      "99\t1.4576564\t\tBridget Jones: The Edge of Reason\n",
      "100\t1.4564334\t\tNim's Island\n"
     ]
    }
   ],
   "source": [
    "usersSearch = 'basketball with cartoon aliens'\n",
    "query = {\n",
    "    'query': {\n",
    "        'multi_match': { \n",
    "            'query': usersSearch, #A\n",
    "            'fields': ['title^10', 'overview'], #B\n",
    "        },\n",
    "    },\n",
    "    'size': '100'\n",
    "}\n",
    "search(query)\n"
   ]
  },
  {
   "cell_type": "markdown",
   "metadata": {},
   "source": [
    "# 2.4.1\tDecomposing Relevance Score With Lucene’s Explain"
   ]
  },
  {
   "cell_type": "code",
   "execution_count": null,
   "metadata": {
    "collapsed": false
   },
   "outputs": [],
   "source": [
    "query['explain'] = True\n",
    "httpResp = requests.get('http://localhost:9200/tmdb/movie/_search', data=json.dumps(query))\n",
    "jsonResp = json.loads(httpResp.text)\n",
    "print json.dumps(jsonResp['hits']['hits'][0]['_explanation'], indent=True)\n",
    "print \"Explain for %s\" % jsonResp['hits']['hits'][0]['_source']['title']\n",
    "print simplerExplain(jsonResp['hits']['hits'][0]['_explanation'])\n",
    "print \"Explain for %s\" % jsonResp['hits']['hits'][1]['_source']['title']\n",
    "print simplerExplain(jsonResp['hits']['hits'][1]['_explanation'])\n",
    "print \"Explain for %s\" % jsonResp['hits']['hits'][2]['_source']['title']\n",
    "print simplerExplain(jsonResp['hits']['hits'][2]['_explanation'])\n",
    "print \"Explain for %s\" % jsonResp['hits']['hits'][3]['_source']['title']\n",
    "print simplerExplain(jsonResp['hits']['hits'][3]['_explanation'])\n",
    "print \"Explain for %s\" % jsonResp['hits']['hits'][10]['_source']['title']\n",
    "print simplerExplain(jsonResp['hits']['hits'][10]['_explanation'])\n"
   ]
  },
  {
   "cell_type": "markdown",
   "metadata": {},
   "source": [
    "# 3.4.4\tFixing Space Jam vs Alien Ranking"
   ]
  },
  {
   "cell_type": "code",
   "execution_count": null,
   "metadata": {
    "collapsed": false
   },
   "outputs": [],
   "source": [
    "query = {\n",
    "    'query': {\n",
    "        'multi_match': { \n",
    "            'query': usersSearch,  #User's query\n",
    "            'fields': ['title^0.1', 'overview'],\n",
    "        }\n",
    "    },\n",
    "    'explain': True\n",
    "}\n",
    "search(query)\n"
   ]
  }
 ],
 "metadata": {
  "kernelspec": {
   "display_name": "Python 3",
   "language": "python",
   "name": "python3"
  },
  "language_info": {
   "codemirror_mode": {
    "name": "ipython",
    "version": 3
   },
   "file_extension": ".py",
   "mimetype": "text/x-python",
   "name": "python",
   "nbconvert_exporter": "python",
   "pygments_lexer": "ipython3",
   "version": "3.6.5"
  }
 },
 "nbformat": 4,
 "nbformat_minor": 2
}
