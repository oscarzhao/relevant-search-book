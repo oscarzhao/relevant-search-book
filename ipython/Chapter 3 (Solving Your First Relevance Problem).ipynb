{
 "cells": [
  {
   "cell_type": "markdown",
   "metadata": {},
   "source": [
    "# Boilerplate Setup"
   ]
  },
  {
   "cell_type": "code",
   "execution_count": 1,
   "metadata": {
    "collapsed": false
   },
   "outputs": [],
   "source": [
    "import requests\n",
    "import json\n",
    "\n",
    "\n",
    "# Optional, enable client-side caching for TMDB\n",
    "# Requires: https://httpcache.readthedocs.org/en/latest/\n",
    "#from httpcache import CachingHTTPAdapter\n",
    "#tmdb_api.mount('https://', CachingHTTPAdapter())\n",
    "#tmdb_api.mount('http://', CachingHTTPAdapter())\n",
    "\n",
    "# Some utilities for flattening the explain into something a bit more\n",
    "# readable. Pass Explain JSON, get something readable (ironically this is what Solr's default output is :-p)\n",
    "def flatten(l):\n",
    "    [item for sublist in l for item in sublist]\n",
    "\n",
    "def simplerExplain(explainJson, depth=0):\n",
    "    result = \" \" * (depth * 2) + \"%s, %s\\n\" % (explainJson['value'], explainJson['description'])\n",
    "    #print json.dumps(explainJson, indent=True)\n",
    "    if 'details' in explainJson:\n",
    "        for detail in explainJson['details']:\n",
    "            result += simplerExplain(detail, depth=depth+1)\n",
    "    return result"
   ]
  },
  {
   "cell_type": "markdown",
   "metadata": {},
   "source": [
    "# 3.2.2 Indexing TMDB Movies"
   ]
  },
  {
   "cell_type": "code",
   "execution_count": 2,
   "metadata": {
    "collapsed": false
   },
   "outputs": [],
   "source": [
    "def extract():\n",
    "    f = open('tmdb.json')\n",
    "    if f:\n",
    "         return json.loads(f.read());        \n",
    "    return {}"
   ]
  },
  {
   "cell_type": "code",
   "execution_count": 3,
   "metadata": {
    "collapsed": false
   },
   "outputs": [],
   "source": [
    "def reindex(analysisSettings={}, mappingSettings={}, movieDict={}):\n",
    "    settings = { #A\n",
    "        \"settings\": {\n",
    "            \"number_of_shards\": 1, #B\n",
    "            \"index\": {\n",
    "                \"analysis\" : analysisSettings, #C\n",
    "            }}}\n",
    "\n",
    "    if mappingSettings:\n",
    "        settings['mappings'] = mappingSettings #C\n",
    "\n",
    "    resp = requests.delete(\"http://localhost:9200/tmdb\") #D\n",
    "    resp = requests.put(\"http://localhost:9200/tmdb\", \n",
    "                        json=settings)\n",
    "    print(\"resp=%s\" % resp.text)\n",
    "\n",
    "    bulkMovies = \"\"\n",
    "    print(\"building...\")\n",
    "    for id, movie in movieDict.items(): \n",
    "        addCmd = {\"index\": {\"_index\": \"tmdb\", #E\n",
    "                            \"_type\": \"movie\",\n",
    "                            \"_id\": movie[\"id\"]}}\n",
    "        bulkMovies += json.dumps(addCmd) + \"\\n\" + json.dumps(movie) + \"\\n\"\n",
    "\n",
    "    print(\"indexing...\")\n",
    "    # https://www.elastic.co/guide/en/elasticsearch/reference/current/docs-bulk.html\n",
    "    resp = requests.post(\"http://localhost:9200/_bulk\", data=bulkMovies, headers={\"Content-Type\":\"application/x-ndjson\"})\n",
    "    print(\"Create index complete, resp=%s\" % resp.text[:100])\n"
   ]
  },
  {
   "cell_type": "code",
   "execution_count": 4,
   "metadata": {
    "collapsed": false
   },
   "outputs": [
    {
     "name": "stdout",
     "output_type": "stream",
     "text": [
      "resp={\"acknowledged\":true,\"shards_acknowledged\":true,\"index\":\"tmdb\"}\n",
      "building...\n",
      "indexing...\n",
      "Create index complete, resp={\"took\":3534,\"errors\":false,\"items\":[{\"index\":{\"_index\":\"tmdb\",\"_type\":\"movie\",\"_id\":\"93837\",\"_versi\n"
     ]
    }
   ],
   "source": [
    "movieDict = extract()\n",
    "reindex(movieDict=movieDict)\n"
   ]
  },
  {
   "cell_type": "markdown",
   "metadata": {},
   "source": [
    "# 3.2.3 Basic Searching"
   ]
  },
  {
   "cell_type": "code",
   "execution_count": 5,
   "metadata": {
    "collapsed": false
   },
   "outputs": [],
   "source": [
    "def search(query):\n",
    "    url = 'http://localhost:9200/tmdb/movie/_search'\n",
    "    httpResp = requests.get(url, json=query) #A\n",
    "    print(\"Http resp=%s\" % httpResp.text[:100])\n",
    "    searchHits = json.loads(httpResp.text)['hits']\n",
    "    print (\"Num\\tRelevance Score\\t\\tMovie Title\") #B\n",
    "    for idx, hit in enumerate(searchHits['hits']):\n",
    "            print(\"%s\\t%s\\t\\t%s\" % (idx + 1, hit['_score'], hit['_source']['title']))\n"
   ]
  },
  {
   "cell_type": "code",
   "execution_count": 6,
   "metadata": {
    "collapsed": false
   },
   "outputs": [
    {
     "name": "stdout",
     "output_type": "stream",
     "text": [
      "Http resp={\"took\":70,\"timed_out\":false,\"_shards\":{\"total\":1,\"successful\":1,\"skipped\":0,\"failed\":0},\"hits\":{\"to\n",
      "Num\tRelevance Score\t\tMovie Title\n",
      "1\t85.5693\t\tAliens\n",
      "2\t73.71077\t\tThe Basketball Diaries\n",
      "3\t71.3202\t\tCowboys & Aliens\n",
      "4\t61.13922\t\tMonsters vs Aliens\n",
      "5\t53.501823\t\tAliens vs Predator: Requiem\n",
      "6\t53.501823\t\tAliens in the Attic\n",
      "7\t45.221092\t\tDances with Wolves\n",
      "8\t45.221092\t\tFriends with Benefits\n",
      "9\t45.221092\t\tFire with Fire\n",
      "10\t45.221092\t\tFriends with Kids\n",
      "11\t39.57216\t\tInterview with the Vampire\n",
      "12\t39.57216\t\tFrom Russia With Love\n",
      "13\t39.57216\t\tGone with the Wind\n",
      "14\t39.57216\t\tJust Go With It\n",
      "15\t39.57216\t\tMy Week with Marilyn\n",
      "16\t39.57216\t\tFrom Paris with Love\n",
      "17\t39.57216\t\tTrouble with the Curve\n",
      "18\t39.57216\t\tSleeping with the Enemy\n",
      "19\t39.57216\t\tHobo with a Shotgun\n",
      "20\t39.57216\t\tTo Rome with Love\n",
      "21\t35.177814\t\tDie Hard: With a Vengeance\n",
      "22\t35.177814\t\tGirl with a Pearl Earring\n",
      "23\t35.177814\t\tFun with Dick and Jane\n",
      "24\t31.661877\t\tThe Girl with the Dragon Tattoo\n",
      "25\t31.661877\t\tThe Life Aquatic With Steve Zissou\n",
      "26\t31.661877\t\tTwin Peaks: Fire Walk with Me\n",
      "27\t31.661877\t\tYou Don't Mess With the Zohan\n",
      "28\t31.661877\t\tThe Man with the Golden Gun\n",
      "29\t31.661877\t\tCloudy with a Chance of Meatballs\n",
      "30\t31.661877\t\tThe Girl with the Dragon Tattoo\n",
      "31\t31.661877\t\tThe Man with the Iron Fists\n",
      "32\t31.661877\t\tThe Girl Who Played with Fire\n",
      "33\t28.784897\t\tCloudy with a Chance of Meatballs 2\n",
      "34\t28.784897\t\tThe Pirates! In an Adventure with Scientists!\n",
      "35\t9.305035\t\tMeet Dave\n",
      "36\t8.257416\t\tSpeed Racer\n",
      "37\t7.9753795\t\tSpace Jam\n",
      "38\t7.7324815\t\tGrown Ups\n",
      "39\t7.505871\t\tSemi-Pro\n",
      "40\t7.390269\t\tThe Flintstones\n",
      "41\t7.219441\t\tCoach Carter\n",
      "42\t6.7105947\t\tWhite Men Can't Jump\n",
      "43\t6.6692567\t\tAlien: Resurrection\n",
      "44\t6.531829\t\tTeen Wolf\n",
      "45\t6.5275307\t\tDistrict 9\n",
      "46\t6.4917965\t\tBedazzled\n",
      "47\t6.458376\t\tThe Watch\n",
      "48\t6.1556296\t\tGalaxy Quest\n",
      "49\t5.7469673\t\tBatteries Not Included\n",
      "50\t5.5015993\t\tThey Live\n",
      "51\t5.3065963\t\tPitch Black\n",
      "52\t5.129005\t\tHigh School Musical\n",
      "53\t5.073344\t\tAVP: Alien vs. Predator\n",
      "54\t4.9289107\t\tDude, Where’s My Car?\n",
      "55\t4.87677\t\tMen in Black 3\n",
      "56\t4.7924733\t\tBattlefield Earth\n",
      "57\t4.7924733\t\tCocoon\n",
      "58\t1.6364228\t\tDark City\n",
      "59\t1.6025233\t\tSex Drive\n",
      "60\t1.594499\t\tThe Switch\n",
      "61\t1.594499\t\tCarrie\n",
      "62\t1.5821548\t\tNim's Island\n",
      "63\t1.5821548\t\tBride of Chucky\n",
      "64\t1.5821548\t\tYoung Adult\n",
      "65\t1.5721632\t\tWhite Noise\n",
      "66\t1.5721632\t\tThe Guard\n",
      "67\t1.5721632\t\tOdd Thomas\n",
      "68\t1.5704502\t\tFrida\n",
      "69\t1.5546697\t\tGuess Who\n",
      "70\t1.5525542\t\tSilver Linings Playbook\n",
      "71\t1.5429322\t\tCinema Paradiso\n",
      "72\t1.5292041\t\tThe Man in the Iron Mask\n",
      "73\t1.5240412\t\tStrangers on a Train\n",
      "74\t1.5240412\t\t[REC]²\n",
      "75\t1.5240412\t\tWild Card\n",
      "76\t1.5240412\t\tSafe Haven\n",
      "77\t1.5056072\t\tStep Up Revolution\n",
      "78\t1.5045594\t\tGhosts of Girlfriends Past\n",
      "79\t1.4965564\t\tMy Big Fat Greek Wedding\n",
      "80\t1.4965564\t\t27 Dresses\n",
      "81\t1.4925326\t\tLethal Weapon\n",
      "82\t1.4925326\t\tArmored\n",
      "83\t1.4787775\t\tVicky Cristina Barcelona\n",
      "84\t1.4690466\t\tGarden State\n",
      "85\t1.4690466\t\tMary Poppins\n",
      "86\t1.4690466\t\tThe Ant Bully\n",
      "87\t1.4690466\t\tDays of Thunder\n",
      "88\t1.4690466\t\tRush Hour 3\n",
      "89\t1.461416\t\t8½\n",
      "90\t1.461416\t\tFantastic Mr. Fox\n",
      "91\t1.461416\t\tThe Spiderwick Chronicles\n",
      "92\t1.4599357\t\tJustice League: Throne of Atlantis\n",
      "93\t1.4528873\t\tJust Friends\n",
      "94\t1.4528873\t\tStuart Little\n",
      "95\t1.4462883\t\tJersey Girl\n",
      "96\t1.4462883\t\tMatilda\n",
      "97\t1.4444574\t\tSubmarine\n",
      "98\t1.4361249\t\tOutlander\n",
      "99\t1.4361249\t\tStoker\n",
      "100\t1.4361249\t\tMesrine: Killer Instinct\n"
     ]
    }
   ],
   "source": [
    "usersSearch = 'basketball with cartoon aliens'\n",
    "query = {\n",
    "    'query': {\n",
    "        'multi_match': { \n",
    "            'query': usersSearch, #A\n",
    "            'fields': ['title^10', 'overview'], #B\n",
    "        },\n",
    "    },\n",
    "    'size': '100'\n",
    "}\n",
    "search(query)\n"
   ]
  },
  {
   "cell_type": "markdown",
   "metadata": {},
   "source": [
    "# 2.3.1 Query Validation API"
   ]
  },
  {
   "cell_type": "code",
   "execution_count": 7,
   "metadata": {
    "collapsed": false
   },
   "outputs": [
    {
     "name": "stdout",
     "output_type": "stream",
     "text": [
      "{'_shards': {'total': 1, 'successful': 1, 'failed': 0}, 'valid': True, 'explanations': [{'index': 'tmdb', 'valid': True, 'explanation': '+((title:basketball title:with title:cartoon title:aliens)^10.0 | (overview:basketball overview:with overview:cartoon overview:aliens)) #*:*'}]}\n"
     ]
    }
   ],
   "source": [
    "query = {\n",
    "   'query': {\n",
    "        'multi_match': { \n",
    "            'query': usersSearch,  #User's query\n",
    "            'fields': ['title^10', 'overview']\n",
    "        }\n",
    "    }\n",
    "}\n",
    "httpResp = requests.get('http://localhost:9200' + \n",
    "\t\t\t    '/tmdb/movie/_validate/query?explain',\n",
    "\t\t\t     json=query)\n",
    "print(json.loads(httpResp.text))"
   ]
  },
  {
   "cell_type": "markdown",
   "metadata": {},
   "source": [
    "# 2.3.3 Debugging Analysis"
   ]
  },
  {
   "cell_type": "code",
   "execution_count": 8,
   "metadata": {
    "collapsed": false
   },
   "outputs": [
    {
     "name": "stdout",
     "output_type": "stream",
     "text": [
      "---\n",
      "tokens:\n",
      "- token: \"fire\"\n",
      "  start_offset: 0\n",
      "  end_offset: 4\n",
      "  type: \"<ALPHANUM>\"\n",
      "  position: 0\n",
      "- token: \"with\"\n",
      "  start_offset: 5\n",
      "  end_offset: 9\n",
      "  type: \"<ALPHANUM>\"\n",
      "  position: 1\n",
      "- token: \"fire\"\n",
      "  start_offset: 10\n",
      "  end_offset: 14\n",
      "  type: \"<ALPHANUM>\"\n",
      "  position: 2\n",
      "\n"
     ]
    }
   ],
   "source": [
    "# Inner Layer of the Onion -- Why did the search engine consider these movies matches? Two sides to this\n",
    "# (1) What tokens are placed in the search engine?\n",
    "# (2) What did the search engine attempt to match exactly?\n",
    "\n",
    "# Explain of what's happening when we construct these terms\n",
    "\n",
    "#resp = requests.get(elasticSearchUrl + \"/tmdb/_mapping/movie/field/title?format=yaml'\n",
    "resp = requests.get('http://localhost:9200/tmdb/_analyze?format=yaml', \n",
    "                    json={\"field\":\"title\", \"text\":\"Fire with Fire\"})\n",
    "print(resp.text)"
   ]
  },
  {
   "cell_type": "markdown",
   "metadata": {},
   "source": [
    "# 2.3.5 -- Solving The Matching Problem"
   ]
  },
  {
   "cell_type": "code",
   "execution_count": 9,
   "metadata": {
    "collapsed": false
   },
   "outputs": [
    {
     "name": "stdout",
     "output_type": "stream",
     "text": [
      "resp={\"acknowledged\":true,\"shards_acknowledged\":true,\"index\":\"tmdb\"}\n",
      "building...\n",
      "indexing...\n",
      "Create index complete, resp={\"took\":2866,\"errors\":false,\"items\":[{\"index\":{\"_index\":\"tmdb\",\"_type\":\"movie\",\"_id\":\"93837\",\"_versi\n"
     ]
    }
   ],
   "source": [
    "mappingSettings = {\n",
    "       'movie': {\n",
    "            'properties': {\n",
    "               'title': { #A\n",
    "                   'type': 'text',\n",
    "                   'analyzer': 'english'\n",
    "               },\n",
    "                'overview': {\n",
    "                   'type': 'text',\n",
    "                   'analyzer': 'english'\n",
    "               }\n",
    "            }\n",
    "       }\n",
    "}\n",
    "reindex(mappingSettings=mappingSettings, movieDict=movieDict) \n"
   ]
  },
  {
   "cell_type": "code",
   "execution_count": 10,
   "metadata": {
    "collapsed": false
   },
   "outputs": [
    {
     "name": "stdout",
     "output_type": "stream",
     "text": [
      "---\n",
      "tokens:\n",
      "- token: \"fire\"\n",
      "  start_offset: 0\n",
      "  end_offset: 4\n",
      "  type: \"<ALPHANUM>\"\n",
      "  position: 0\n",
      "- token: \"fire\"\n",
      "  start_offset: 10\n",
      "  end_offset: 14\n",
      "  type: \"<ALPHANUM>\"\n",
      "  position: 2\n",
      "\n"
     ]
    }
   ],
   "source": [
    "resp = requests.get('http://localhost:9200/tmdb/_analyze?format=yaml', \n",
    "                    json={\"field\":\"title\", \"text\":\"Fire with Fire\"})\n",
    "print(resp.text)"
   ]
  },
  {
   "cell_type": "markdown",
   "metadata": {},
   "source": [
    "## Repeat the search"
   ]
  },
  {
   "cell_type": "code",
   "execution_count": 11,
   "metadata": {
    "collapsed": false
   },
   "outputs": [
    {
     "name": "stdout",
     "output_type": "stream",
     "text": [
      "Http resp={\"took\":36,\"timed_out\":false,\"_shards\":{\"total\":1,\"successful\":1,\"skipped\":0,\"failed\":0},\"hits\":{\"to\n",
      "Num\tRelevance Score\t\tMovie Title\n",
      "1\t78.76022\t\tThe Basketball Diaries\n",
      "2\t74.090744\t\tAlien\n",
      "3\t74.090744\t\tAliens\n",
      "4\t74.090744\t\tAlien³\n",
      "5\t59.677\t\tCowboys & Aliens\n",
      "6\t59.677\t\tAliens in the Attic\n",
      "7\t59.677\t\tAlien: Resurrection\n",
      "8\t49.95806\t\tMonsters vs Aliens\n",
      "9\t42.96141\t\tAliens vs Predator: Requiem\n",
      "10\t42.96141\t\tAVP: Alien vs. Predator\n",
      "11\t12.882349\t\tSpace Jam\n",
      "12\t7.5384703\t\tGrown Ups\n",
      "13\t7.4996777\t\tSpeed Racer\n",
      "14\t7.2440877\t\tSemi-Pro\n",
      "15\t7.162643\t\tThe Flintstones\n",
      "16\t6.943389\t\tCoach Carter\n",
      "17\t6.7653713\t\tWhite Men Can't Jump\n",
      "18\t5.845222\t\tMeet Dave\n",
      "19\t5.440302\t\tBedazzled\n",
      "20\t5.3304057\t\tHigh School Musical\n",
      "21\t5.3242\t\tThe Thing\n",
      "22\t5.1603985\t\tThe Darkest Hour\n",
      "23\t5.1603985\t\tInvasion of the Body Snatchers\n",
      "24\t5.0822196\t\tSlither\n",
      "25\t5.052847\t\tDistrict 9\n",
      "26\t5.0258336\t\tTeen Wolf\n",
      "27\t4.8694844\t\tIndependence Day\n",
      "28\t4.8694844\t\tDude, Where’s My Car?\n",
      "29\t4.8694844\t\tEdge of Tomorrow\n",
      "30\t4.8612785\t\tEscape from Planet Earth\n",
      "31\t4.791839\t\tAvatar\n",
      "32\t4.779668\t\tThe X Files\n",
      "33\t4.5949354\t\tThe Last Starfighter\n",
      "34\t4.5328484\t\tTitan A.E.\n",
      "35\t4.472417\t\tThe Day the Earth Stood Still\n",
      "36\t4.413575\t\tScary Movie 3\n",
      "37\t4.3628497\t\tStar Trek IV: The Voyage Home\n",
      "38\t4.3628497\t\tGhosts of Mars\n",
      "39\t4.3562617\t\tOutlander\n",
      "40\t4.3562617\t\tThe Hitchhiker's Guide to the Galaxy\n",
      "41\t4.300418\t\tNapoleon Dynamite\n",
      "42\t4.252246\t\tAttack the Block\n",
      "43\t4.192918\t\tGalaxy Quest\n",
      "44\t4.0906615\t\tJustice League: War\n",
      "45\t4.0906615\t\tUnder the Skin\n",
      "46\t4.0470505\t\tBattleship\n",
      "47\t4.041381\t\tContact\n",
      "48\t4.041381\t\tStar Trek: Insurrection\n",
      "49\t4.041381\t\tBatteries Not Included\n",
      "50\t4.041381\t\tScary Movie 4\n",
      "51\t4.041381\t\tThe Host\n",
      "52\t3.9462984\t\tThe Watch\n",
      "53\t3.8117774\t\tSpecies\n",
      "54\t3.7689521\t\tMars Attacks!\n",
      "55\t3.7270787\t\tPredators\n",
      "56\t3.6861253\t\tLifted\n",
      "57\t3.6068604\t\tThe Day the Earth Stood Still\n",
      "58\t3.6068604\t\tPitch Black\n",
      "59\t3.5309327\t\tBattlefield Earth\n",
      "60\t3.5309327\t\tCocoon\n",
      "61\t3.5309327\t\tLilo & Stitch\n",
      "62\t3.5309327\t\tSpider-Man 3\n",
      "63\t3.5309327\t\tDreamcatcher\n",
      "64\t3.3882802\t\tShort Circuit\n",
      "65\t3.3211906\t\tPredator 2\n",
      "66\t3.3211906\t\tThey Live\n",
      "67\t3.3211906\t\tThe Faculty\n",
      "68\t3.1946785\t\tPredator\n",
      "69\t3.1946785\t\tDoom\n",
      "70\t3.1946785\t\tThe Invasion\n",
      "71\t3.1349692\t\tPaul\n",
      "72\t3.077451\t\tMen in Black\n",
      "73\t3.077451\t\tMonsters\n",
      "74\t3.077451\t\tHome\n",
      "75\t3.077451\t\tRiddick\n",
      "76\t2.9685216\t\tHalo 4: Forward Unto Dawn\n",
      "77\t2.9685216\t\tSpring Breakers\n",
      "78\t2.8670406\t\tPride\n",
      "79\t2.7722685\t\tMen in Black 3\n",
      "80\t2.6835616\t\tMen in Black II\n",
      "81\t2.6835616\t\tThere Will Be Blood\n",
      "82\t2.6003554\t\tMars Needs Moms\n",
      "83\t2.4485185\t\tStalker\n",
      "84\t2.3790607\t\tWreck-It Ralph\n"
     ]
    }
   ],
   "source": [
    "usersSearch = 'basketball with cartoon aliens'\n",
    "query = {\n",
    "    'query': {\n",
    "        'multi_match': { \n",
    "            'query': usersSearch, #A\n",
    "            'fields': ['title^10', 'overview'], #B\n",
    "        },\n",
    "    },\n",
    "    'size': '100'\n",
    "}\n",
    "search(query)\n"
   ]
  },
  {
   "cell_type": "markdown",
   "metadata": {},
   "source": [
    "# 2.4.1\tDecomposing Relevance Score With Lucene’s Explain"
   ]
  },
  {
   "cell_type": "code",
   "execution_count": 12,
   "metadata": {
    "collapsed": false
   },
   "outputs": [
    {
     "name": "stdout",
     "output_type": "stream",
     "text": [
      "{\n",
      " \"value\": 78.76022,\n",
      " \"description\": \"max of:\",\n",
      " \"details\": [\n",
      "  {\n",
      "   \"value\": 78.76022,\n",
      "   \"description\": \"sum of:\",\n",
      "   \"details\": [\n",
      "    {\n",
      "     \"value\": 78.76022,\n",
      "     \"description\": \"weight(title:basketbal in 1279) [PerFieldSimilarity], result of:\",\n",
      "     \"details\": [\n",
      "      {\n",
      "       \"value\": 78.76022,\n",
      "       \"description\": \"score(doc=1279,freq=1.0 = termFreq=1.0\\n), product of:\",\n",
      "       \"details\": [\n",
      "        {\n",
      "         \"value\": 10.0,\n",
      "         \"description\": \"boost\",\n",
      "         \"details\": []\n",
      "        },\n",
      "        {\n",
      "         \"value\": 7.6180873,\n",
      "         \"description\": \"idf, computed as log(1 + (docCount - docFreq + 0.5) / (docFreq + 0.5)) from:\",\n",
      "         \"details\": [\n",
      "          {\n",
      "           \"value\": 1.0,\n",
      "           \"description\": \"docFreq\",\n",
      "           \"details\": []\n",
      "          },\n",
      "          {\n",
      "           \"value\": 3051.0,\n",
      "           \"description\": \"docCount\",\n",
      "           \"details\": []\n",
      "          }\n",
      "         ]\n",
      "        },\n",
      "        {\n",
      "         \"value\": 1.0338583,\n",
      "         \"description\": \"tfNorm, computed as (freq * (k1 + 1)) / (freq + k1 * (1 - b + b * fieldLength / avgFieldLength)) from:\",\n",
      "         \"details\": [\n",
      "          {\n",
      "           \"value\": 1.0,\n",
      "           \"description\": \"termFreq=1.0\",\n",
      "           \"details\": []\n",
      "          },\n",
      "          {\n",
      "           \"value\": 1.2,\n",
      "           \"description\": \"parameter k1\",\n",
      "           \"details\": []\n",
      "          },\n",
      "          {\n",
      "           \"value\": 0.75,\n",
      "           \"description\": \"parameter b\",\n",
      "           \"details\": []\n",
      "          },\n",
      "          {\n",
      "           \"value\": 2.1740413,\n",
      "           \"description\": \"avgFieldLength\",\n",
      "           \"details\": []\n",
      "          },\n",
      "          {\n",
      "           \"value\": 2.0,\n",
      "           \"description\": \"fieldLength\",\n",
      "           \"details\": []\n",
      "          }\n",
      "         ]\n",
      "        }\n",
      "       ]\n",
      "      }\n",
      "     ]\n",
      "    }\n",
      "   ]\n",
      "  }\n",
      " ]\n",
      "}\n",
      "Explain for The Basketball Diaries\n",
      "78.76022, max of:\n",
      "  78.76022, sum of:\n",
      "    78.76022, weight(title:basketbal in 1279) [PerFieldSimilarity], result of:\n",
      "      78.76022, score(doc=1279,freq=1.0 = termFreq=1.0\n",
      "), product of:\n",
      "        10.0, boost\n",
      "        7.6180873, idf, computed as log(1 + (docCount - docFreq + 0.5) / (docFreq + 0.5)) from:\n",
      "          1.0, docFreq\n",
      "          3051.0, docCount\n",
      "        1.0338583, tfNorm, computed as (freq * (k1 + 1)) / (freq + k1 * (1 - b + b * fieldLength / avgFieldLength)) from:\n",
      "          1.0, termFreq=1.0\n",
      "          1.2, parameter k1\n",
      "          0.75, parameter b\n",
      "          2.1740413, avgFieldLength\n",
      "          2.0, fieldLength\n",
      "\n",
      "Explain for Alien\n",
      "74.090744, max of:\n",
      "  74.090744, sum of:\n",
      "    74.090744, weight(title:alien in 162) [PerFieldSimilarity], result of:\n",
      "      74.090744, score(doc=162,freq=1.0 = termFreq=1.0\n",
      "), product of:\n",
      "        10.0, boost\n",
      "        5.7722607, idf, computed as log(1 + (docCount - docFreq + 0.5) / (docFreq + 0.5)) from:\n",
      "          9.0, docFreq\n",
      "          3051.0, docCount\n",
      "        1.2835655, tfNorm, computed as (freq * (k1 + 1)) / (freq + k1 * (1 - b + b * fieldLength / avgFieldLength)) from:\n",
      "          1.0, termFreq=1.0\n",
      "          1.2, parameter k1\n",
      "          0.75, parameter b\n",
      "          2.1740413, avgFieldLength\n",
      "          1.0, fieldLength\n",
      "  3.3211906, sum of:\n",
      "    3.3211906, weight(overview:alien in 162) [PerFieldSimilarity], result of:\n",
      "      3.3211906, score(doc=162,freq=1.0 = termFreq=1.0\n",
      "), product of:\n",
      "        3.739638, idf, computed as log(1 + (docCount - docFreq + 0.5) / (docFreq + 0.5)) from:\n",
      "          72.0, docFreq\n",
      "          3050.0, docCount\n",
      "        0.8881048, tfNorm, computed as (freq * (k1 + 1)) / (freq + k1 * (1 - b + b * fieldLength / avgFieldLength)) from:\n",
      "          1.0, termFreq=1.0\n",
      "          1.2, parameter k1\n",
      "          0.75, parameter b\n",
      "          36.697704, avgFieldLength\n",
      "          48.0, fieldLength\n",
      "\n",
      "Explain for Aliens\n",
      "74.090744, max of:\n",
      "  74.090744, sum of:\n",
      "    74.090744, weight(title:alien in 387) [PerFieldSimilarity], result of:\n",
      "      74.090744, score(doc=387,freq=1.0 = termFreq=1.0\n",
      "), product of:\n",
      "        10.0, boost\n",
      "        5.7722607, idf, computed as log(1 + (docCount - docFreq + 0.5) / (docFreq + 0.5)) from:\n",
      "          9.0, docFreq\n",
      "          3051.0, docCount\n",
      "        1.2835655, tfNorm, computed as (freq * (k1 + 1)) / (freq + k1 * (1 - b + b * fieldLength / avgFieldLength)) from:\n",
      "          1.0, termFreq=1.0\n",
      "          1.2, parameter k1\n",
      "          0.75, parameter b\n",
      "          2.1740413, avgFieldLength\n",
      "          1.0, fieldLength\n",
      "  3.6068602, sum of:\n",
      "    3.6068602, weight(overview:alien in 387) [PerFieldSimilarity], result of:\n",
      "      3.6068602, score(doc=387,freq=1.0 = termFreq=1.0\n",
      "), product of:\n",
      "        3.739638, idf, computed as log(1 + (docCount - docFreq + 0.5) / (docFreq + 0.5)) from:\n",
      "          72.0, docFreq\n",
      "          3050.0, docCount\n",
      "        0.96449447, tfNorm, computed as (freq * (k1 + 1)) / (freq + k1 * (1 - b + b * fieldLength / avgFieldLength)) from:\n",
      "          1.0, termFreq=1.0\n",
      "          1.2, parameter k1\n",
      "          0.75, parameter b\n",
      "          36.697704, avgFieldLength\n",
      "          40.0, fieldLength\n",
      "\n",
      "Explain for Alien³\n",
      "74.090744, max of:\n",
      "  74.090744, sum of:\n",
      "    74.090744, weight(title:alien in 1516) [PerFieldSimilarity], result of:\n",
      "      74.090744, score(doc=1516,freq=1.0 = termFreq=1.0\n",
      "), product of:\n",
      "        10.0, boost\n",
      "        5.7722607, idf, computed as log(1 + (docCount - docFreq + 0.5) / (docFreq + 0.5)) from:\n",
      "          9.0, docFreq\n",
      "          3051.0, docCount\n",
      "        1.2835655, tfNorm, computed as (freq * (k1 + 1)) / (freq + k1 * (1 - b + b * fieldLength / avgFieldLength)) from:\n",
      "          1.0, termFreq=1.0\n",
      "          1.2, parameter k1\n",
      "          0.75, parameter b\n",
      "          2.1740413, avgFieldLength\n",
      "          1.0, fieldLength\n",
      "  3.38828, sum of:\n",
      "    3.38828, weight(overview:alien in 1516) [PerFieldSimilarity], result of:\n",
      "      3.38828, score(doc=1516,freq=1.0 = termFreq=1.0\n",
      "), product of:\n",
      "        3.739638, idf, computed as log(1 + (docCount - docFreq + 0.5) / (docFreq + 0.5)) from:\n",
      "          72.0, docFreq\n",
      "          3050.0, docCount\n",
      "        0.90604484, tfNorm, computed as (freq * (k1 + 1)) / (freq + k1 * (1 - b + b * fieldLength / avgFieldLength)) from:\n",
      "          1.0, termFreq=1.0\n",
      "          1.2, parameter k1\n",
      "          0.75, parameter b\n",
      "          36.697704, avgFieldLength\n",
      "          46.0, fieldLength\n",
      "\n",
      "Explain for Space Jam\n",
      "12.882349, max of:\n",
      "  12.882349, sum of:\n",
      "    7.875975, weight(overview:basketbal in 1290) [PerFieldSimilarity], result of:\n",
      "      7.875975, score(doc=1290,freq=1.0 = termFreq=1.0\n",
      "), product of:\n",
      "        5.8831587, idf, computed as log(1 + (docCount - docFreq + 0.5) / (docFreq + 0.5)) from:\n",
      "          8.0, docFreq\n",
      "          3050.0, docCount\n",
      "        1.3387324, tfNorm, computed as (freq * (k1 + 1)) / (freq + k1 * (1 - b + b * fieldLength / avgFieldLength)) from:\n",
      "          1.0, termFreq=1.0\n",
      "          1.2, parameter k1\n",
      "          0.75, parameter b\n",
      "          36.697704, avgFieldLength\n",
      "          14.0, fieldLength\n",
      "    5.0063744, weight(overview:alien in 1290) [PerFieldSimilarity], result of:\n",
      "      5.0063744, score(doc=1290,freq=1.0 = termFreq=1.0\n",
      "), product of:\n",
      "        3.739638, idf, computed as log(1 + (docCount - docFreq + 0.5) / (docFreq + 0.5)) from:\n",
      "          72.0, docFreq\n",
      "          3050.0, docCount\n",
      "        1.3387324, tfNorm, computed as (freq * (k1 + 1)) / (freq + k1 * (1 - b + b * fieldLength / avgFieldLength)) from:\n",
      "          1.0, termFreq=1.0\n",
      "          1.2, parameter k1\n",
      "          0.75, parameter b\n",
      "          36.697704, avgFieldLength\n",
      "          14.0, fieldLength\n",
      "\n"
     ]
    }
   ],
   "source": [
    "query['explain'] = True\n",
    "httpResp = requests.get('http://localhost:9200/tmdb/movie/_search', json=query)\n",
    "jsonResp = json.loads(httpResp.text)\n",
    "print(json.dumps(jsonResp['hits']['hits'][0]['_explanation'], indent=True))\n",
    "print(\"Explain for %s\" % jsonResp['hits']['hits'][0]['_source']['title'])\n",
    "print(simplerExplain(jsonResp['hits']['hits'][0]['_explanation']))\n",
    "print(\"Explain for %s\" % jsonResp['hits']['hits'][1]['_source']['title'])\n",
    "print(simplerExplain(jsonResp['hits']['hits'][1]['_explanation']))\n",
    "print(\"Explain for %s\" % jsonResp['hits']['hits'][2]['_source']['title'])\n",
    "print(simplerExplain(jsonResp['hits']['hits'][2]['_explanation']))\n",
    "print(\"Explain for %s\" % jsonResp['hits']['hits'][3]['_source']['title'])\n",
    "print(simplerExplain(jsonResp['hits']['hits'][3]['_explanation']))\n",
    "print(\"Explain for %s\" % jsonResp['hits']['hits'][10]['_source']['title'])\n",
    "print(simplerExplain(jsonResp['hits']['hits'][10]['_explanation']))\n"
   ]
  },
  {
   "cell_type": "markdown",
   "metadata": {},
   "source": [
    "# 3.4.4\tFixing Space Jam vs Alien Ranking"
   ]
  },
  {
   "cell_type": "code",
   "execution_count": 13,
   "metadata": {
    "collapsed": false
   },
   "outputs": [
    {
     "name": "stdout",
     "output_type": "stream",
     "text": [
      "Http resp={\"took\":38,\"timed_out\":false,\"_shards\":{\"total\":1,\"successful\":1,\"skipped\":0,\"failed\":0},\"hits\":{\"to\n",
      "Num\tRelevance Score\t\tMovie Title\n",
      "1\t12.882349\t\tSpace Jam\n",
      "2\t7.5384703\t\tGrown Ups\n",
      "3\t7.4996777\t\tSpeed Racer\n",
      "4\t7.2440877\t\tSemi-Pro\n",
      "5\t7.162643\t\tThe Flintstones\n",
      "6\t6.943389\t\tCoach Carter\n",
      "7\t6.7653713\t\tWhite Men Can't Jump\n",
      "8\t5.845222\t\tMeet Dave\n",
      "9\t5.8005633\t\tAliens vs Predator: Requiem\n",
      "10\t5.440302\t\tBedazzled\n"
     ]
    }
   ],
   "source": [
    "query = {\n",
    "    'query': {\n",
    "        'multi_match': {\n",
    "            'query': usersSearch,  #User's query\n",
    "            'fields': ['title^0.1', 'overview'],\n",
    "        }\n",
    "    },\n",
    "    'explain': True\n",
    "}\n",
    "search(query)\n"
   ]
  }
 ],
 "metadata": {
  "kernelspec": {
   "display_name": "Python 3",
   "language": "python",
   "name": "python3"
  },
  "language_info": {
   "codemirror_mode": {
    "name": "ipython",
    "version": 3
   },
   "file_extension": ".py",
   "mimetype": "text/x-python",
   "name": "python",
   "nbconvert_exporter": "python",
   "pygments_lexer": "ipython3",
   "version": "3.6.5"
  }
 },
 "nbformat": 4,
 "nbformat_minor": 2
}
