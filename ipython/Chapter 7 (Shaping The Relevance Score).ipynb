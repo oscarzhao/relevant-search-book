{
 "cells": [
  {
   "cell_type": "code",
   "execution_count": null,
   "metadata": {
    "collapsed": false
   },
   "outputs": [],
   "source": [
    "import requests\n",
    "import json\n",
    "import os\n",
    "\n",
    "# Some utilities for flattening the explain into something a bit more\n",
    "# readable. Pass Explain JSON, get something readable (ironically this is what Solr's default output is :-p)\n",
    "def flatten(l):\n",
    "    [item for sublist in l for item in sublist]\n",
    "\n",
    "def simplerExplain(explainJson, depth=0):\n",
    "    result = \" \" * (depth * 2) + \"%s, %s\\n\" % (explainJson['value'], explainJson['description'])\n",
    "    #print json.dumps(explainJson, indent=True)\n",
    "    if 'details' in explainJson:\n",
    "        for detail in explainJson['details']:\n",
    "            result += simplerExplain(detail, depth=depth+1)\n",
    "    return result\n",
    "\n",
    "\n",
    "# To speed up the pace of development, we really need to focus more heavily on the analysis and query\n",
    "# settings of the search engine, rather than fidly bits of the http interface.\n",
    "#\n",
    "# To that end, we're going to collapse some of the code you were introduced to in chapter 3 into more general functions,\n",
    "# so we can reuse them. Largely, this is the exact same code you saw in chapter 3 some more generality.\n",
    "\n",
    "## Analyze\n",
    "## The analyze function is a helper for accessing the _analyze endpoint like we did in chapter 3. Recall,\n",
    "## given a field or analyzer, passing some text to _analyze will return the token stream that results from\n",
    "## that analyzer. This token stream, if you recall, shows us exactly how the search engine translate text\n",
    "## into individual tokens to be consumed by the underlying data structures. When we debug analysis, we see\n",
    "## matches we need to expect.\n",
    "def analyze(text, field=None, analyzer=None):\n",
    "    whatToAnalyze = ''\n",
    "    if field is not None:\n",
    "        whatToAnalyze = \"field=%s\" % field\n",
    "    elif analyzer is not None:\n",
    "        whatToAnalyze = \"analyzer=%s\" % analyzer\n",
    "    resp = requests.get(\"http://localhost:9200/tmdb/_analyze?%s&format=yaml\", whatToAnalyze, \n",
    "                        json={'field': field, 'analyzer': analyzer, 'text':text})\n",
    "    print(resp.text)\n",
    "    \n",
    "## Search\n",
    "## Next we need to wrap up our execution of query DSL queries. The function 'search' will execute the passed query DSL\n",
    "## query and display the results. \n",
    "## If a scoring explain is associated with the results, then it also gets displayed,\n",
    "## We'll also be sure to dump the query DSL\n",
    "def search(query, verbose=False):\n",
    "    url = 'http://localhost:9200/tmdb/movie/_search'\n",
    "    httpResp = requests.get(url, json=query)\n",
    "    if httpResp.status_code != 200:\n",
    "        print(\"Search Failed <%s>\" % httpResp.status_code)\n",
    "        print(\"%s\" % httpResp.text)\n",
    "    searchHits = json.loads(httpResp.text)['hits']\n",
    "    print(\"Num\\tRelevance Score\\t\\tMovie Title\")\n",
    "    for idx, hit in enumerate(searchHits['hits']):\n",
    "            castNames = []            \n",
    "            castCharacters = []                        \n",
    "            directorNames = []\n",
    "            for cast in hit['_source']['cast']:\n",
    "                castNames.append(cast['name'])\n",
    "                castCharacters.append(cast['character'])\n",
    "            for director in hit['_source']['directors']:\n",
    "                directorNames.append(director['name'])\n",
    "            print(\"%s\\t%s\\t\\t%s\" % (idx + 1, hit['_score'], hit['_source']['title']))\n",
    "            if verbose:\n",
    "                print(\"%s\" % hit['_source']['title'])\n",
    "                print(\"%s\" % hit['_source']['tagline'])      \n",
    "                print(\"%s\" % hit['_source']['overview'])\n",
    "                print(\"%s\" % hit['_id'])\n",
    "                print(\"DIRS %s\" % directorNames)\n",
    "                print(\"CAST %s\" % castNames)\n",
    "                print(\"CHAR %s\" % castCharacters)\n",
    "                if '_explanation' in hit:\n",
    "                    print(\"%s\" % simplerExplain(hit['_explanation']))\n",
    "                    print(\"*************************************\")\n",
    "    \n",
    "    if verbose:\n",
    "        httpResp = requests.get('http://localhost:9200' + \n",
    "                    '/tmdb/movie/_validate/query?explain',\n",
    "                     json={'query': query['query']})\n",
    "        print(json.loads(httpResp.text))\n",
    "\n",
    "## Reindex\n",
    "## Reindex takes analyzer and field mappings, recreates the index, and then reindexes\n",
    "## TMDB movies using the _bulk index API. There are other ways for modifying the configuration\n",
    "## of the index besides dropping and restarting, however for convenience and because our data\n",
    "## isn't truly that large, we'll just delete and start from scratch when we need to.\n",
    "def reindex(analysisSettings, mappingSettings=None, movieDict={}):\n",
    "    # Destroy any existing index (equiv to SQL \"drop table\")\n",
    "    resp = requests.delete(\"http://localhost:9200/tmdb\")\n",
    "    print(\"Delete TMDB Index <%s>\" % resp.status_code)\n",
    "    \n",
    "    # Create the index with explicit settings\n",
    "    # We need to explicitely set number of shards to 1 to eliminate the impact of \n",
    "    # distributed IDF on our small collection\n",
    "    # See also \"Relavance is Broken!\"\n",
    "    # http://www.elastic.co/guide/en/elasticsearch/guide/current/relevance-is-broken.html\n",
    "    settings = {\n",
    "        \"settings\": {\n",
    "            \"number_of_shards\": 1,\n",
    "            \"index\": {\n",
    "                \"analysis\" : analysisSettings,\n",
    "            }\n",
    "        }\n",
    "    }\n",
    "    if mappingSettings:\n",
    "        settings['mappings'] = mappingSettings\n",
    "    resp = requests.put(\"http://localhost:9200/tmdb\", json=settings)\n",
    "    print(\"Create TMDB Index <%s>\" % resp.status_code)\n",
    "    if resp.status_code != 200:\n",
    "        print(resp.text)\n",
    "    \n",
    "    # Bulk index title & overview to the movie endpoint\n",
    "    print(\"Indexing %i movies\" % len(movieDict.keys()))\n",
    "    bulkMovies = \"\"\n",
    "    for id, movie in movieDict.items():\n",
    "        addCmd = {\"index\": {\"_index\": \"tmdb\", \"_type\": \"movie\", \"_id\": movie[\"id\"]}}\n",
    "        esDoc  = movie\n",
    "        bulkMovies += json.dumps(addCmd) + \"\\n\" + json.dumps(esDoc) + \"\\n\"\n",
    "    resp = requests.post(\"http://localhost:9200/_bulk\", data=bulkMovies, headers={\"Content-Type\":\"application/x-ndjson\"})\n",
    "    print(\"Bulk Index into TMDB Index <%s>\" % resp.status_code)\n",
    "\n",
    "## Extract\n",
    "## major difference between our use of TMDB here and in chapter 3: pulling more data. Not only do we access the \n",
    "## movie endpoint, we also extract the credits -- pulling in the cast (actors and such) and extracting the director.\n",
    "def extract(movieIds=[], numMovies=10000):\n",
    "    if len(movieIds) == 0:\n",
    "        try:\n",
    "            f = open('tmdb.json')\n",
    "            if f:\n",
    "                return json.loads(f.read());\n",
    "        except IOError:\n",
    "            pass       \n",
    "    return movieDict"
   ]
  },
  {
   "cell_type": "markdown",
   "metadata": {},
   "source": [
    "## Index to ES, Chapter 5 Settings"
   ]
  },
  {
   "cell_type": "code",
   "execution_count": null,
   "metadata": {
    "collapsed": false
   },
   "outputs": [],
   "source": [
    "movieDict = extract([])\n",
    "\n",
    "analysisSettings = {\n",
    "   \"analyzer\" : {\n",
    "      \"default\" : {\n",
    "        \"type\" : \"english\"\n",
    "      },\n",
    "      \"english_bigrams\": {\n",
    "          \"type\": \"custom\",\n",
    "          \"tokenizer\": \"standard\",\n",
    "          \"filter\": [\n",
    "            \"standard\",\n",
    "            \"lowercase\",\n",
    "            \"porter_stem\",\n",
    "            \"bigram_filter\"\n",
    "          ]\n",
    "      }\n",
    "    },\n",
    "  \"filter\": {\n",
    "    \"bigram_filter\": {\n",
    "        \"type\": \"shingle\",\n",
    "        \"max_shingle_size\":2,\n",
    "        \"min_shingle_size\":2,\n",
    "        \"output_unigrams\":\"false\"\n",
    "    }\n",
    "  }\n",
    "}\n",
    "\n",
    "            \n",
    "mappingSettings = {\n",
    "    'movie': {\n",
    "        'properties': {\n",
    "            # Some bug means I have to be explicit about analyzer (ie default analyzer)\n",
    "            # doesn't apply\n",
    "            \"overview\": {\n",
    "                'type': 'text',\n",
    "                 'analyzer': 'english',\n",
    "\n",
    "            },\n",
    "            \"title\": {\n",
    "                'type': 'text',\n",
    "                 'analyzer': 'english',\n",
    "\n",
    "            },\n",
    "            \"cast\": {\n",
    "               'properties': {\n",
    "                  'name': {\n",
    "                      'type': 'text',\n",
    "                      'analyzer': 'english',\n",
    "                      'fields': {\n",
    "                         \"bigramed\": {\n",
    "                            \"type\": \"text\",\n",
    "                            \"analyzer\": \"english_bigrams\",\n",
    "                            #\"norms\" : {\n",
    "                            #   \"enabled\" : False\n",
    "                            #}\n",
    "                        }     \n",
    "                      }\n",
    "                   }\n",
    "                   \n",
    "               }\n",
    "            },\n",
    "            \"directors\": {\n",
    "               'properties': {\n",
    "                  'name': {\n",
    "                      'type': 'text',\n",
    "                      'analyzer': 'english',\n",
    "                      'fields': {\n",
    "                         \"bigramed\": {\n",
    "                            \"type\": \"text\",\n",
    "                            \"analyzer\": \"english_bigrams\",\n",
    "                            #\"norms\" : {\n",
    "                            #   \"enabled\" : False\n",
    "                            #}\n",
    "                        }                       \n",
    "                      },\n",
    "                 \n",
    "                   }\n",
    "                   \n",
    "               }\n",
    "            }            \n",
    "        }\n",
    "    }\n",
    "}\n",
    "\n",
    "reindex(analysisSettings, mappingSettings, movieDict)"
   ]
  },
  {
   "cell_type": "markdown",
   "metadata": {},
   "source": [
    "# Last Query from Chapter 5"
   ]
  },
  {
   "cell_type": "code",
   "execution_count": null,
   "metadata": {
    "collapsed": false
   },
   "outputs": [],
   "source": [
    "usersSearch = 'star trek patrick stewart william shatner'\n",
    "query = {\n",
    "    'query': {\n",
    "        'bool': {\n",
    "            'should': [ \n",
    "                {\n",
    "                   'multi_match': { \n",
    "                      'query': usersSearch,  #User's query\n",
    "                      'fields': ['directors.name.bigramed', #B \n",
    "\t\t\t\t      'cast.name.bigramed'],\n",
    "                      'type': 'cross_fields'\n",
    "                      }\n",
    "                 },\n",
    "                {\n",
    "                   'multi_match': {\n",
    "                     'query': usersSearch,  #User's query\n",
    "                     'fields': ['overview', 'title', #C\n",
    "  'directors.name', 'cast.name'],\n",
    "                     'type': 'cross_fields'                                \n",
    "                   }\n",
    "                },\n",
    "            ]\n",
    "        }\n",
    "    },\n",
    "    'size': 5,\n",
    "    'explain': True\n",
    "}\n",
    "search(query, False) \n"
   ]
  },
  {
   "cell_type": "markdown",
   "metadata": {},
   "source": [
    "# 7.2.1, Listing 1 Base Query"
   ]
  },
  {
   "cell_type": "code",
   "execution_count": null,
   "metadata": {
    "collapsed": false
   },
   "outputs": [],
   "source": [
    "usersSearch = 'william shatner patrick stewart'\n",
    "query = {\n",
    "    'query': {\n",
    "        'multi_match': {\n",
    "           'query': usersSearch,  #User's query\n",
    "            'fields': ['overview', 'title', #C\n",
    "                       'directors.name', 'cast.name'],\n",
    "            'type': 'cross_fields'                                \n",
    "         }\n",
    "    },\n",
    "    'size': 5,\n",
    "    'explain': True\n",
    "}\n",
    "search(query, False)"
   ]
  },
  {
   "cell_type": "markdown",
   "metadata": {},
   "source": [
    "# 7.2.3, Listing 2 Boosting with An Additional Boolean Clause"
   ]
  },
  {
   "cell_type": "code",
   "execution_count": null,
   "metadata": {
    "collapsed": false
   },
   "outputs": [],
   "source": [
    "usersSearch = 'william shatner patrick stewart'\n",
    "query = {\n",
    "    'query': {\n",
    "        'bool': {\n",
    "            'should': [\n",
    "            {'multi_match': { #A\n",
    "               'query': usersSearch,  #User's query\n",
    "                'fields': ['overview', 'title', #C\n",
    "                           'directors.name', 'cast.name'],\n",
    "                'type': 'cross_fields'                                \n",
    "             }},\n",
    "            { #B\n",
    "               'match_phrase': {\n",
    "                    'title': {\n",
    "                        'query': 'star trek',\n",
    "                        'boost': 1.0\n",
    "                    }\n",
    "                }\n",
    "            }\n",
    "            ]\n",
    "        }\n",
    "    },\n",
    "    'size': 5,\n",
    "    'explain': True\n",
    "}\n",
    "search(query)"
   ]
  },
  {
   "cell_type": "markdown",
   "metadata": {},
   "source": [
    "# 7.2.3, Adjusted Boost Weight on Boolean Query (no listing no, modification of above listing)"
   ]
  },
  {
   "cell_type": "code",
   "execution_count": null,
   "metadata": {
    "collapsed": false
   },
   "outputs": [],
   "source": [
    "usersSearch = 'william shatner patrick stewart'\n",
    "query = {\n",
    "    'query': {\n",
    "        'bool': {\n",
    "            'should': [\n",
    "            {'multi_match': { #A\n",
    "               'query': usersSearch,  #User's query\n",
    "                'fields': ['overview', 'title', #C\n",
    "                           'directors.name', 'cast.name'],\n",
    "                'type': 'cross_fields'                                \n",
    "             }},\n",
    "            { #B\n",
    "               'match_phrase': {\n",
    "                    'title': {\n",
    "                        'query': 'star trek',\n",
    "                        'boost': 0.1\n",
    "                    }\n",
    "                }\n",
    "            }\n",
    "            ]\n",
    "        }\n",
    "    },\n",
    "    'size': 5,\n",
    "    'explain': True\n",
    "}\n",
    "search(query)"
   ]
  },
  {
   "cell_type": "markdown",
   "metadata": {},
   "source": [
    "# 7.2.5, Listing 3 -- Multiplicative Boosting on Title Star Trek match"
   ]
  },
  {
   "cell_type": "code",
   "execution_count": null,
   "metadata": {
    "collapsed": false
   },
   "outputs": [],
   "source": [
    "usersSearch = 'william shatner patrick stewart'\n",
    "query = {\n",
    "    'query': {\n",
    "        'function_score': {\n",
    "            'query': {\n",
    "                 'multi_match': {\n",
    "                   'query': usersSearch,  #User's query\n",
    "                    'fields': ['overview', 'title', #C\n",
    "                               'directors.name', 'cast.name'],\n",
    "                    'type': 'cross_fields'                                \n",
    "                 }\n",
    "             },\n",
    "             'functions': [\n",
    "                {\n",
    "                     'weight': 2.5,\n",
    "                     'filter': {\n",
    "                        'match': {\n",
    "                            'title': 'star trek'\n",
    "                        }\n",
    "                     }\n",
    "                 }\n",
    "            ]\n",
    "        }\n",
    "    },\n",
    "    'size': 50,\n",
    "    'explain': True\n",
    "}\n",
    "search(query, False)"
   ]
  },
  {
   "cell_type": "markdown",
   "metadata": {},
   "source": [
    "# 7.3, Listing 4 -- Using a Filter Instead of A Boost"
   ]
  },
  {
   "cell_type": "code",
   "execution_count": null,
   "metadata": {
    "collapsed": false
   },
   "outputs": [],
   "source": [
    "usersSearch = 'william shatner patrick stewart'\n",
    "query = {\n",
    "    'query': {\n",
    "        'bool': {\n",
    "          'should': [\n",
    "            {    'multi_match': {\n",
    "                   'query': usersSearch,  #User's query\n",
    "                    'fields': ['overview', 'title', #C\n",
    "                               'directors.name', 'cast.name'],\n",
    "                    'type': 'cross_fields'                                \n",
    "                 }\n",
    "            }],\n",
    "          'filter': [{\n",
    "            'match': {\n",
    "                'title': 'star trek'\n",
    "            }\n",
    "          }]\n",
    "        }\n",
    "    },\n",
    "    'size': 5,\n",
    "    'explain': True\n",
    "}\n",
    "search(query)"
   ]
  },
  {
   "cell_type": "markdown",
   "metadata": {},
   "source": [
    "# 7.4.2, Listings 5&7 Sentinel Tokens (includes exact name matching)"
   ]
  },
  {
   "cell_type": "code",
   "execution_count": null,
   "metadata": {
    "collapsed": false
   },
   "outputs": [],
   "source": [
    "SENTINEL_BEGIN = 'SENTINEL_BEGIN'\n",
    "SENTINEL_END = 'SENTINEL_END'\n",
    "def transform(esDoc):    \n",
    "    esDoc['title_exact_match'] = SENTINEL_BEGIN + ' ' + esDoc['title'] + ' ' + SENTINEL_END\n",
    "    esDoc['names_exact_match'] = []\n",
    "    for person in esDoc['cast'] + esDoc['directors']:\n",
    "        esDoc['names_exact_match'].append(SENTINEL_BEGIN + ' ' + person['name'] + ' ' + SENTINEL_END)\n",
    "        \n",
    "\n",
    "for id, movie in movieDict.items():\n",
    "    transform(movie)\n",
    "\n",
    "        \n",
    "reindex(analysisSettings, mappingSettings, movieDict)"
   ]
  },
  {
   "cell_type": "markdown",
   "metadata": {},
   "source": [
    "# 7.4.2, Listing 6 -- Testing Exact Title Matching"
   ]
  },
  {
   "cell_type": "code",
   "execution_count": null,
   "metadata": {
    "collapsed": false
   },
   "outputs": [],
   "source": [
    "usersSearch = 'Star Trek'\n",
    "query = {\n",
    "    'query': {\n",
    "        'match_phrase': {\n",
    "            'title_exact_match': {\n",
    "                'query': SENTINEL_BEGIN + ' ' + usersSearch + ' ' + SENTINEL_END,\n",
    "            }\n",
    "        }\n",
    "    },\n",
    "    'size': 5,\n",
    "    'explain': True\n",
    "}\n",
    "search(query, False)"
   ]
  },
  {
   "cell_type": "markdown",
   "metadata": {},
   "source": [
    "# 7.4.3, Listing 8 Boolean Boost on Exact Title Matching"
   ]
  },
  {
   "cell_type": "code",
   "execution_count": null,
   "metadata": {
    "collapsed": false
   },
   "outputs": [],
   "source": [
    "usersSearch = 'good will hunting'\n",
    "query = {\n",
    "    'query': {\n",
    "        'bool': {\n",
    "            'disable_coord': True,\n",
    "            'should': [\n",
    "                {'match_phrase': {\n",
    "                    'title_exact_match': {\n",
    "                        'query': SENTINEL_BEGIN + ' ' + usersSearch + ' ' + SENTINEL_END,\n",
    "                        'boost': 1000,\n",
    "                    }          \n",
    "                }},\n",
    "                {'multi_match': {\n",
    "                   'query': usersSearch,  #User's query\n",
    "                    'fields': ['overview', 'title', #C\n",
    "                               'directors.name', 'cast.name'],\n",
    "                    'type': 'cross_fields'                                \n",
    "                 }},\n",
    "                \n",
    "            ]\n",
    "        }\n",
    "    },\n",
    "    'size': 5,\n",
    "    'explain': True\n",
    "}\n",
    "search(query)"
   ]
  },
  {
   "cell_type": "markdown",
   "metadata": {},
   "source": [
    "## No Listing -- Adding a query mentions name boost"
   ]
  },
  {
   "cell_type": "markdown",
   "metadata": {},
   "source": [
    "### First Attempt, search bigramed fields without modification"
   ]
  },
  {
   "cell_type": "code",
   "execution_count": null,
   "metadata": {
    "collapsed": false
   },
   "outputs": [],
   "source": [
    "usersSearch = 'star trek patrick stewart'\n",
    "query = {\n",
    "    'query': {\n",
    "        'bool': {\n",
    "            'disable_coord': True,\n",
    "            'should': [\n",
    "                {'match_phrase': {\n",
    "                    'title_exact_match': {\n",
    "                        'query': SENTINEL_BEGIN + ' ' + usersSearch + ' ' + SENTINEL_END,\n",
    "                        'boost': 1000,\n",
    "                    }          \n",
    "                }},\n",
    "                {'multi_match': {\n",
    "                   'query': usersSearch,  #User's query\n",
    "                    'fields': ['overview', 'title', #C\n",
    "                               'directors.name', 'cast.name'],\n",
    "                    'type': 'cross_fields'\n",
    "                }},\n",
    "                {'multi_match': {\n",
    "                   'query': usersSearch,  #User's query\n",
    "                    'fields': ['directors.name.bigramed', 'cast.name.bigramed'],\n",
    "                    'type': 'cross_fields',\n",
    "                   'boost': 100\n",
    "                 }}\n",
    "                \n",
    "            ]\n",
    "        }\n",
    "    },\n",
    "    'size': 20,\n",
    "    'explain': True\n",
    "}\n",
    "search(query)"
   ]
  },
  {
   "cell_type": "code",
   "execution_count": null,
   "metadata": {
    "collapsed": false
   },
   "outputs": [],
   "source": [
    "mappingSettings['movie']['properties'] \\\n",
    "               ['cast']['properties'] \\\n",
    "               ['name']['fields']['bigramed']['norms'] = {'enabled': False}\n",
    "        \n",
    "reindex(analysisSettings, mappingSettings, movieDict)"
   ]
  },
  {
   "cell_type": "markdown",
   "metadata": {},
   "source": [
    "### Rerunning with Norms Off For Bigrams"
   ]
  },
  {
   "cell_type": "code",
   "execution_count": null,
   "metadata": {
    "collapsed": false
   },
   "outputs": [],
   "source": [
    "usersSearch = 'star trek patrick stewart'\n",
    "query = {\n",
    "    'query': {\n",
    "        'bool': {\n",
    "            'disable_coord': True,\n",
    "            'should': [\n",
    "                {'match_phrase': {\n",
    "                    'title_exact_match': {\n",
    "                        'query': SENTINEL_BEGIN + ' ' + usersSearch + ' ' + SENTINEL_END,\n",
    "                        'boost': 1000,\n",
    "                    }          \n",
    "                }},\n",
    "                {'multi_match': {\n",
    "                   'query': usersSearch,  #User's query\n",
    "                    'fields': ['overview', 'title', #C\n",
    "                               'directors.name', 'cast.name'],\n",
    "                    'type': 'cross_fields'\n",
    "                }},\n",
    "                {'multi_match': {\n",
    "                   'query': usersSearch,  #User's query\n",
    "                    'fields': ['directors.name.bigramed', 'cast.name.bigramed'],\n",
    "                    'type': 'cross_fields',\n",
    "                   'boost': 100\n",
    "                 }}\n",
    "                \n",
    "            ]\n",
    "        }\n",
    "    },\n",
    "    'size': 20,\n",
    "    'explain': True\n",
    "}\n",
    "search(query)"
   ]
  },
  {
   "cell_type": "markdown",
   "metadata": {},
   "source": [
    "# 7.4.4.1 Exact Name Matching Function Query Skeleton using TF*IDF (no listing number)"
   ]
  },
  {
   "cell_type": "code",
   "execution_count": null,
   "metadata": {
    "collapsed": false
   },
   "outputs": [],
   "source": [
    "query = {\n",
    "    'query': {\n",
    "        'function_score': {\n",
    "            'query': {\n",
    "                'match_phrase': {\n",
    "                    'names_exact_match': SENTINEL_BEGIN + ' william shatner ' + SENTINEL_END\n",
    "                }\n",
    "            },          \n",
    "            'functions': [\n",
    "               \n",
    "            ]\n",
    "        }        \n",
    "    }\n",
    "}\n",
    "search(query)"
   ]
  },
  {
   "cell_type": "markdown",
   "metadata": {},
   "source": [
    "# 7.4.4.1 Exact Name Matching Function, Ignoring TF*IDF"
   ]
  },
  {
   "cell_type": "code",
   "execution_count": null,
   "metadata": {
    "collapsed": false
   },
   "outputs": [],
   "source": [
    "query = {\n",
    "    'query': {\n",
    "        'function_score': {\n",
    "            'query': {\n",
    "                'constant_score': {\n",
    "                    'filter': {\n",
    "                        'match_phrase': {\n",
    "                            'names_exact_match': SENTINEL_BEGIN + ' william shatner ' + SENTINEL_END\n",
    "                        }\n",
    "                    },\n",
    "                    'boost': 1000.0\n",
    "                }\n",
    "            },          \n",
    "            'functions': [\n",
    "            ]\n",
    "        }        \n",
    "    }\n",
    "}\n",
    "search(query)"
   ]
  },
  {
   "cell_type": "markdown",
   "metadata": {},
   "source": [
    "# 7.4.4.1, Listing 9 Turning User Rating into A Signal"
   ]
  },
  {
   "cell_type": "code",
   "execution_count": null,
   "metadata": {
    "collapsed": false
   },
   "outputs": [],
   "source": [
    "query = {\n",
    "    'query': {\n",
    "        'function_score': {\n",
    "            'query': {\n",
    "                'match_all': {}\n",
    "            },          \n",
    "            'functions': [\n",
    "            {\n",
    "                 \"field_value_factor\": {\n",
    "                 \"field\": \"vote_average\",\n",
    "                 \"modifier\": \"sqrt\"\n",
    "                }\n",
    "            }]\n",
    "        }        \n",
    "    }\n",
    "}\n",
    "search(query)"
   ]
  },
  {
   "cell_type": "markdown",
   "metadata": {},
   "source": [
    "# 7.4.4.2 Listing 10, Turning Recency of Release Into A Signal (first try)"
   ]
  },
  {
   "cell_type": "code",
   "execution_count": null,
   "metadata": {
    "collapsed": false
   },
   "outputs": [],
   "source": [
    "query = {\n",
    "    'query': {\n",
    "        'function_score': {\n",
    "            'query': {\n",
    "                'match_all': {}\n",
    "            },          \n",
    "            'functions': [\n",
    "            {\n",
    "                 \"gauss\": {\n",
    "                    \"release_date\": {\n",
    "                        \"origin\": \"now\",\n",
    "                        \"scale\": \"900d\",\n",
    "                        \"decay\": 0.5\n",
    "                    }\n",
    "                }\n",
    "            }]\n",
    "        }        \n",
    "    },\n",
    "    'explain': True\n",
    "}\n",
    "search(query)"
   ]
  },
  {
   "cell_type": "markdown",
   "metadata": {},
   "source": [
    "# 7.4.4.2 Listing 10, Adjusted Gaussian Decay (set scale to 15 years)"
   ]
  },
  {
   "cell_type": "code",
   "execution_count": null,
   "metadata": {
    "collapsed": false
   },
   "outputs": [],
   "source": [
    "query = {\n",
    "    'query': {\n",
    "        'function_score': {\n",
    "            'query': {\n",
    "                'match_all': {}\n",
    "            },          \n",
    "            'functions': [\n",
    "            {\n",
    "                 \"gauss\": {\n",
    "                    \"release_date\": {\n",
    "                        \"origin\": \"now\",\n",
    "                        \"scale\": \"5500d\",\n",
    "                        \"decay\": 0.5\n",
    "                    }\n",
    "                }\n",
    "            }]\n",
    "        }        \n",
    "    },\n",
    "    'explain': True\n",
    "}\n",
    "search(query)"
   ]
  },
  {
   "cell_type": "markdown",
   "metadata": {},
   "source": [
    "# 7.4.4.3 -- Complete Name Boost"
   ]
  },
  {
   "cell_type": "code",
   "execution_count": null,
   "metadata": {
    "collapsed": false
   },
   "outputs": [],
   "source": [
    "usersSearch = 'patrick stewart'\n",
    "query = {\n",
    "    'query': {\n",
    "        'function_score': {\n",
    "            'query': {\n",
    "                'constant_score': {\n",
    "                    'filter': {\n",
    "                        'match_phrase': {\n",
    "                            'names_exact_match': SENTINEL_BEGIN + ' ' + usersSearch + ' ' + SENTINEL_END\n",
    "                        }\n",
    "                    },\n",
    "                    'boost': 1000.0\n",
    "                }            \n",
    "            },          \n",
    "            'functions': [\n",
    "            {\n",
    "                 \"gauss\": {\n",
    "                    \"release_date\": {\n",
    "                        \"origin\": \"now\",\n",
    "                        \"scale\": \"5500d\",\n",
    "                        \"decay\": 0.5\n",
    "                    }\n",
    "                }\n",
    "            },\n",
    "            {\n",
    "                \"field_value_factor\": {\n",
    "                 \"field\": \"vote_average\",\n",
    "                 \"modifier\": \"sqrt\"\n",
    "                }\n",
    "            }\n",
    "            \n",
    "            ]\n",
    "        }        \n",
    "    },\n",
    "    'explain': True,\n",
    "    'size': 20\n",
    "}\n",
    "search(query)"
   ]
  },
  {
   "cell_type": "markdown",
   "metadata": {},
   "source": [
    "# Not Shown In Chapter: The Whole Shebang"
   ]
  },
  {
   "cell_type": "code",
   "execution_count": null,
   "metadata": {
    "collapsed": false
   },
   "outputs": [],
   "source": [
    "usersSearch = 'patrick stewart'\n",
    "query = {\n",
    "    'query': {\n",
    "        'bool': {\n",
    "            'disable_coord': True,\n",
    "            'should': [\n",
    "                {'match_phrase': {\n",
    "                    'title_exact_match': {\n",
    "                        'query': SENTINEL_BEGIN + ' ' + usersSearch + ' ' + SENTINEL_END,\n",
    "                        'boost': 1000,\n",
    "                    }          \n",
    "                }},\n",
    "                {\n",
    "                   'function_score': {\n",
    "                        'query': {\n",
    "                            'constant_score': {\n",
    "                                'filter': {\n",
    "                                    'match_phrase': {\n",
    "                                        'names_exact_match': SENTINEL_BEGIN + ' ' + usersSearch + ' ' + SENTINEL_END\n",
    "                                    }\n",
    "                                },\n",
    "                                'boost': 1000.0\n",
    "                            }            \n",
    "                        },          \n",
    "                        'functions': [\n",
    "                        {\n",
    "                             \"gauss\": {\n",
    "                                \"release_date\": {\n",
    "                                    \"origin\": \"now\",\n",
    "                                    \"scale\": \"5500d\",\n",
    "                                    \"decay\": 0.5\n",
    "                                }\n",
    "                            }\n",
    "                        },\n",
    "                        {\n",
    "                            \"field_value_factor\": {\n",
    "                             \"field\": \"vote_average\",\n",
    "                             \"modifier\": \"sqrt\"\n",
    "                            }\n",
    "                        }\n",
    "                        \n",
    "                        ]\n",
    "                    }                    \n",
    "                },\n",
    "                {'multi_match': {\n",
    "                   'query': usersSearch,  #User's query\n",
    "                    'fields': ['overview', 'title', #C\n",
    "                               'directors.name', 'cast.name'],\n",
    "                    'type': 'cross_fields'                                \n",
    "                 }},\n",
    "                \n",
    "            ]\n",
    "        }\n",
    "    },\n",
    "    'size': 5,\n",
    "    'explain': True\n",
    "}\n",
    "search(query)"
   ]
  },
  {
   "cell_type": "code",
   "execution_count": null,
   "metadata": {
    "collapsed": false
   },
   "outputs": [],
   "source": []
  }
 ],
 "metadata": {
  "kernelspec": {
   "display_name": "Python 2",
   "language": "python",
   "name": "python2"
  },
  "language_info": {
   "codemirror_mode": {
    "name": "ipython",
    "version": 3
   },
   "file_extension": ".py",
   "mimetype": "text/x-python",
   "name": "python",
   "nbconvert_exporter": "python",
   "pygments_lexer": "ipython3",
   "version": "3.6.5"
  }
 },
 "nbformat": 4,
 "nbformat_minor": 2
}
